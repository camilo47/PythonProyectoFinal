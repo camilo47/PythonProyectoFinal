{
  "nbformat": 4,
  "nbformat_minor": 0,
  "metadata": {
    "colab": {
      "name": "Untitled1.ipynb",
      "provenance": [],
      "collapsed_sections": [],
      "authorship_tag": "ABX9TyPCPsVQl3ddsPmB6anv4bqk",
      "include_colab_link": true
    },
    "kernelspec": {
      "name": "python3",
      "display_name": "Python 3"
    }
  },
  "cells": [
    {
      "cell_type": "markdown",
      "metadata": {
        "id": "view-in-github",
        "colab_type": "text"
      },
      "source": [
        "<a href=\"https://colab.research.google.com/github/camilo47/PythonProyectoFinal/blob/master/test_pred.ipynb\" target=\"_parent\"><img src=\"https://colab.research.google.com/assets/colab-badge.svg\" alt=\"Open In Colab\"/></a>"
      ]
    },
    {
      "cell_type": "code",
      "metadata": {
        "id": "pF4PPH-W4a60",
        "colab_type": "code",
        "colab": {
          "base_uri": "https://localhost:8080/",
          "height": 255
        },
        "outputId": "fbfe9f2f-bccc-4fdd-eb22-2b960beb0ff8"
      },
      "source": [
        "!pip install PyDrive\n",
        "\n",
        "from pydrive.auth import GoogleAuth\n",
        "from pydrive.drive import GoogleDrive\n",
        "from google.colab import auth\n",
        "from oauth2client.client import GoogleCredentials\n",
        "\n",
        "auth.authenticate_user()\n",
        "gauth = GoogleAuth()\n",
        "gauth.credentials = GoogleCredentials.get_application_default()\n",
        "drive = GoogleDrive(gauth)"
      ],
      "execution_count": 1,
      "outputs": [
        {
          "output_type": "stream",
          "text": [
            "Requirement already satisfied: PyDrive in /usr/local/lib/python3.6/dist-packages (1.3.1)\n",
            "Requirement already satisfied: PyYAML>=3.0 in /usr/local/lib/python3.6/dist-packages (from PyDrive) (3.13)\n",
            "Requirement already satisfied: google-api-python-client>=1.2 in /usr/local/lib/python3.6/dist-packages (from PyDrive) (1.7.12)\n",
            "Requirement already satisfied: oauth2client>=4.0.0 in /usr/local/lib/python3.6/dist-packages (from PyDrive) (4.1.3)\n",
            "Requirement already satisfied: google-auth-httplib2>=0.0.3 in /usr/local/lib/python3.6/dist-packages (from google-api-python-client>=1.2->PyDrive) (0.0.3)\n",
            "Requirement already satisfied: httplib2<1dev,>=0.17.0 in /usr/local/lib/python3.6/dist-packages (from google-api-python-client>=1.2->PyDrive) (0.17.4)\n",
            "Requirement already satisfied: six<2dev,>=1.6.1 in /usr/local/lib/python3.6/dist-packages (from google-api-python-client>=1.2->PyDrive) (1.12.0)\n",
            "Requirement already satisfied: google-auth>=1.4.1 in /usr/local/lib/python3.6/dist-packages (from google-api-python-client>=1.2->PyDrive) (1.7.2)\n",
            "Requirement already satisfied: uritemplate<4dev,>=3.0.0 in /usr/local/lib/python3.6/dist-packages (from google-api-python-client>=1.2->PyDrive) (3.0.1)\n",
            "Requirement already satisfied: pyasn1>=0.1.7 in /usr/local/lib/python3.6/dist-packages (from oauth2client>=4.0.0->PyDrive) (0.4.8)\n",
            "Requirement already satisfied: rsa>=3.1.4 in /usr/local/lib/python3.6/dist-packages (from oauth2client>=4.0.0->PyDrive) (4.0)\n",
            "Requirement already satisfied: pyasn1-modules>=0.0.5 in /usr/local/lib/python3.6/dist-packages (from oauth2client>=4.0.0->PyDrive) (0.2.8)\n",
            "Requirement already satisfied: cachetools<3.2,>=2.0.0 in /usr/local/lib/python3.6/dist-packages (from google-auth>=1.4.1->google-api-python-client>=1.2->PyDrive) (3.1.1)\n",
            "Requirement already satisfied: setuptools>=40.3.0 in /usr/local/lib/python3.6/dist-packages (from google-auth>=1.4.1->google-api-python-client>=1.2->PyDrive) (47.1.1)\n"
          ],
          "name": "stdout"
        }
      ]
    },
    {
      "cell_type": "code",
      "metadata": {
        "id": "Pt4yu_D94chR",
        "colab_type": "code",
        "colab": {}
      },
      "source": [
        "downloaded = drive.CreateFile({'id':\"11f96V-uOqzfg8WUKlEp0-B_VpCvLycBB\"})   # replace the id with id of file you want to access\n",
        "downloaded.GetContentFile('datanew.csv')"
      ],
      "execution_count": 0,
      "outputs": []
    },
    {
      "cell_type": "code",
      "metadata": {
        "id": "dgXTsnHi4TGE",
        "colab_type": "code",
        "colab": {
          "base_uri": "https://localhost:8080/",
          "height": 1000
        },
        "outputId": "1a25adba-f661-4942-bd5b-dd2a6b5b909a"
      },
      "source": [
        "import numpy as np\n",
        "np.random.seed(4)\n",
        "import matplotlib.pyplot as plt\n",
        "import pandas as pd\n",
        "\n",
        "from sklearn.preprocessing import MinMaxScaler\n",
        "from keras.models import Sequential\n",
        "from keras.layers import Dense, LSTM\n",
        "\n",
        "#\n",
        "# Funciones auxiliares\n",
        "#\n",
        "def graficar_predicciones(real, prediccion):\n",
        "    plt.plot(real[0:len(prediccion)],color='red', label='Valor real de la acción')\n",
        "    plt.plot(prediccion, color='blue', label='Predicción de la acción')\n",
        "    plt.ylim(1.1 * np.min(prediccion)/2, 1.1 * np.max(prediccion))\n",
        "    plt.xlabel('Fecha')\n",
        "    plt.ylabel('dia')\n",
        "    plt.legend()\n",
        "    plt.show()\n",
        "\n",
        "#\n",
        "# Lectura de los datos\n",
        "#\n",
        "dataset = pd.read_csv('datanew.csv', index_col='fecha', parse_dates=['fecha'])\n",
        "dataset.head()\n",
        "\n",
        "#\n",
        "# Sets de entrenamiento y validación \n",
        "# La LSTM se entrenará con datos de 2016 hacia atrás. La validación se hará con datos de 2017 en adelante.\n",
        "# En ambos casos sólo se usará el valor más alto de la acción para cada día\n",
        "#\n",
        "\n",
        "set_entrenamiento = dataset[:'2018'].iloc[:,0:1]\n",
        "\n",
        "set_validacion = dataset['2019':].iloc[:,0:1]\n",
        "\n",
        "print(set_entrenamiento)\n",
        "\n",
        "\n",
        "set_entrenamiento['dia'].plot(legend=True)\n",
        "set_validacion['dia'].plot(legend=True)\n",
        "plt.legend(['Datos antes 2018 ', 'Datos desde 2019'])\n",
        "plt.show()\n",
        "\n",
        "\n",
        "\n",
        "# Normalización del set de entrenamiento\n",
        "sc = MinMaxScaler(feature_range=(0,1))\n",
        "set_entrenamiento_escalado = sc.fit_transform(set_entrenamiento)\n",
        "\n",
        "# La red LSTM tendrá como entrada \"time_step\" datos consecutivos, y como salida 1 dato (la predicción a\n",
        "# partir de esos \"time_step\" datos). Se conformará de esta forma el set de entrenamiento\n",
        "time_step = 4\n",
        "X_train = []\n",
        "Y_train = []\n",
        "m = len(set_entrenamiento_escalado)\n",
        "\n",
        "for i in range(time_step,m):\n",
        "    # X: bloques de \"time_step\" datos: 0-time_step, 1-time_step+1, 2-time_step+2, etc\n",
        "    X_train.append(set_entrenamiento_escalado[i-time_step:i,0])\n",
        "\n",
        "    # Y: el siguiente dato\n",
        "    Y_train.append(set_entrenamiento_escalado[i,0])\n",
        "X_train, Y_train = np.array(X_train), np.array(Y_train)\n",
        "\n",
        "# Reshape X_train para que se ajuste al modelo en Keras\n",
        "X_train = np.reshape(X_train, (X_train.shape[0], X_train.shape[1], 1))\n",
        "\n",
        "#\n",
        "# Red LSTM\n",
        "#\n",
        "dim_entrada = (X_train.shape[1],1)\n",
        "dim_salida = 1\n",
        "na = 50\n",
        "\n",
        "modelo = Sequential()\n",
        "modelo.add(LSTM(units=na, input_shape=dim_entrada))\n",
        "modelo.add(Dense(units=dim_salida))\n",
        "modelo.compile(optimizer='rmsprop', loss='mse')\n",
        "modelo.fit(X_train,Y_train,epochs=20,batch_size=32)\n",
        "\n",
        "\n",
        "#\n",
        "# Validación (predicción del valor de las acciones)\n",
        "#\n",
        "x_test = set_validacion.values\n",
        "x_test = sc.transform(x_test)\n",
        "\n",
        "X_test = []\n",
        "\n",
        "for i in range(time_step,len(x_test)):\n",
        "    X_test.append(x_test[i-time_step:i,0])\n",
        "    print()\n",
        "X_test = np.array(X_test)\n",
        "X_test = np.reshape(X_test, (X_test.shape[0],X_test.shape[1],1))\n",
        "\n",
        "prediccion = modelo.predict(X_test)\n",
        "prediccion = sc.inverse_transform(prediccion)\n",
        "\n",
        "# Graficar resultados\n",
        "graficar_predicciones(set_validacion.values,prediccion)\n",
        "\n",
        "print(prediccion)\n",
        "\n"
      ],
      "execution_count": 46,
      "outputs": [
        {
          "output_type": "stream",
          "text": [
            "            dia\n",
            "fecha          \n",
            "2018-01-01    3\n",
            "2018-02-01    2\n",
            "2018-03-01    1\n",
            "2018-04-01    2\n",
            "2018-05-01   11\n",
            "2018-06-01    5\n",
            "2018-07-01    4\n",
            "2018-08-01   15\n",
            "2018-09-01   13\n",
            "2018-10-01   11\n",
            "2018-11-01    9\n",
            "2018-12-01    7\n"
          ],
          "name": "stdout"
        },
        {
          "output_type": "display_data",
          "data": {
            "image/png": "[encoded data removed]",
            "text/plain": [
              "<Figure size 432x288 with 1 Axes>"
            ]
          },
          "metadata": {
            "tags": [],
            "needs_background": "light"
          }
        },
        {
          "output_type": "stream",
          "text": [
            "Epoch 1/20\n",
            "8/8 [==============================] - 0s 32ms/step - loss: 0.4503\n",
            "Epoch 2/20\n",
            "8/8 [==============================] - 0s 741us/step - loss: 0.3923\n",
            "Epoch 3/20\n",
            "8/8 [==============================] - 0s 777us/step - loss: 0.3538\n",
            "Epoch 4/20\n",
            "8/8 [==============================] - 0s 572us/step - loss: 0.3230\n",
            "Epoch 5/20\n",
            "8/8 [==============================] - 0s 774us/step - loss: 0.2965\n",
            "Epoch 6/20\n",
            "8/8 [==============================] - 0s 716us/step - loss: 0.2730\n",
            "Epoch 7/20\n",
            "8/8 [==============================] - 0s 640us/step - loss: 0.2518\n",
            "Epoch 8/20\n",
            "8/8 [==============================] - 0s 620us/step - loss: 0.2324\n",
            "Epoch 9/20\n",
            "8/8 [==============================] - 0s 605us/step - loss: 0.2145\n",
            "Epoch 10/20\n",
            "8/8 [==============================] - 0s 448us/step - loss: 0.1982\n",
            "Epoch 11/20\n",
            "8/8 [==============================] - 0s 729us/step - loss: 0.1831\n",
            "Epoch 12/20\n",
            "8/8 [==============================] - 0s 649us/step - loss: 0.1693\n",
            "Epoch 13/20\n",
            "8/8 [==============================] - 0s 626us/step - loss: 0.1568\n",
            "Epoch 14/20\n",
            "8/8 [==============================] - 0s 368us/step - loss: 0.1455\n",
            "Epoch 15/20\n",
            "8/8 [==============================] - 0s 630us/step - loss: 0.1354\n",
            "Epoch 16/20\n",
            "8/8 [==============================] - 0s 498us/step - loss: 0.1265\n",
            "Epoch 17/20\n",
            "8/8 [==============================] - 0s 462us/step - loss: 0.1188\n",
            "Epoch 18/20\n",
            "8/8 [==============================] - 0s 496us/step - loss: 0.1122\n",
            "Epoch 19/20\n",
            "8/8 [==============================] - 0s 461us/step - loss: 0.1066\n",
            "Epoch 20/20\n",
            "8/8 [==============================] - 0s 763us/step - loss: 0.1020\n",
            "\n",
            "\n",
            "\n",
            "\n",
            "\n",
            "\n",
            "\n",
            "\n",
            "\n",
            "\n",
            "\n"
          ],
          "name": "stdout"
        },
        {
          "output_type": "display_data",
          "data": {
            "image/png": "[encoded data removed]",
            "text/plain": [
              "<Figure size 432x288 with 1 Axes>"
            ]
          },
          "metadata": {
            "tags": [],
            "needs_background": "light"
          }
        },
        {
          "output_type": "stream",
          "text": [
            "[[11.779251 ]\n",
            " [ 8.660781 ]\n",
            " [ 8.409021 ]\n",
            " [ 8.518585 ]\n",
            " [ 6.977583 ]\n",
            " [ 8.062443 ]\n",
            " [ 9.577806 ]\n",
            " [ 9.791283 ]\n",
            " [ 9.883876 ]\n",
            " [ 8.312899 ]\n",
            " [ 6.9638324]]\n"
          ],
          "name": "stdout"
        }
      ]
    }
  ]
}