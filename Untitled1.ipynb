{
  "nbformat": 4,
  "nbformat_minor": 0,
  "metadata": {
    "colab": {
      "name": "Untitled1.ipynb",
      "provenance": [],
      "collapsed_sections": [],
      "authorship_tag": "ABX9TyPC3H3EVxpyAg5tYM7AI3km",
      "include_colab_link": true
    },
    "kernelspec": {
      "name": "python3",
      "display_name": "Python 3"
    }
  },
  "cells": [
    {
      "cell_type": "markdown",
      "metadata": {
        "id": "view-in-github",
        "colab_type": "text"
      },
      "source": [
        "<a href=\"https://colab.research.google.com/github/camilo47/PythonProyectoFinal/blob/master/Untitled1.ipynb\" target=\"_parent\"><img src=\"https://colab.research.google.com/assets/colab-badge.svg\" alt=\"Open In Colab\"/></a>"
      ]
    },
    {
      "cell_type": "code",
      "metadata": {
        "id": "pF4PPH-W4a60",
        "colab_type": "code",
        "outputId": "9761abb1-bd3c-4cf4-cfe2-72750260f90e",
        "colab": {
          "base_uri": "https://localhost:8080/",
          "height": 255
        }
      },
      "source": [
        "!pip install PyDrive\n",
        "\n",
        "from pydrive.auth import GoogleAuth\n",
        "from pydrive.drive import GoogleDrive\n",
        "from google.colab import auth\n",
        "from oauth2client.client import GoogleCredentials\n",
        "\n",
        "auth.authenticate_user()\n",
        "gauth = GoogleAuth()\n",
        "gauth.credentials = GoogleCredentials.get_application_default()\n",
        "drive = GoogleDrive(gauth)"
      ],
      "execution_count": 2,
      "outputs": [
        {
          "output_type": "stream",
          "text": [
            "Requirement already satisfied: PyDrive in /usr/local/lib/python3.6/dist-packages (1.3.1)\n",
            "Requirement already satisfied: PyYAML>=3.0 in /usr/local/lib/python3.6/dist-packages (from PyDrive) (3.13)\n",
            "Requirement already satisfied: oauth2client>=4.0.0 in /usr/local/lib/python3.6/dist-packages (from PyDrive) (4.1.3)\n",
            "Requirement already satisfied: google-api-python-client>=1.2 in /usr/local/lib/python3.6/dist-packages (from PyDrive) (1.7.12)\n",
            "Requirement already satisfied: rsa>=3.1.4 in /usr/local/lib/python3.6/dist-packages (from oauth2client>=4.0.0->PyDrive) (4.0)\n",
            "Requirement already satisfied: six>=1.6.1 in /usr/local/lib/python3.6/dist-packages (from oauth2client>=4.0.0->PyDrive) (1.12.0)\n",
            "Requirement already satisfied: pyasn1-modules>=0.0.5 in /usr/local/lib/python3.6/dist-packages (from oauth2client>=4.0.0->PyDrive) (0.2.8)\n",
            "Requirement already satisfied: httplib2>=0.9.1 in /usr/local/lib/python3.6/dist-packages (from oauth2client>=4.0.0->PyDrive) (0.17.4)\n",
            "Requirement already satisfied: pyasn1>=0.1.7 in /usr/local/lib/python3.6/dist-packages (from oauth2client>=4.0.0->PyDrive) (0.4.8)\n",
            "Requirement already satisfied: google-auth-httplib2>=0.0.3 in /usr/local/lib/python3.6/dist-packages (from google-api-python-client>=1.2->PyDrive) (0.0.3)\n",
            "Requirement already satisfied: uritemplate<4dev,>=3.0.0 in /usr/local/lib/python3.6/dist-packages (from google-api-python-client>=1.2->PyDrive) (3.0.1)\n",
            "Requirement already satisfied: google-auth>=1.4.1 in /usr/local/lib/python3.6/dist-packages (from google-api-python-client>=1.2->PyDrive) (1.7.2)\n",
            "Requirement already satisfied: cachetools<3.2,>=2.0.0 in /usr/local/lib/python3.6/dist-packages (from google-auth>=1.4.1->google-api-python-client>=1.2->PyDrive) (3.1.1)\n",
            "Requirement already satisfied: setuptools>=40.3.0 in /usr/local/lib/python3.6/dist-packages (from google-auth>=1.4.1->google-api-python-client>=1.2->PyDrive) (47.1.1)\n"
          ],
          "name": "stdout"
        }
      ]
    },
    {
      "cell_type": "code",
      "metadata": {
        "id": "Pt4yu_D94chR",
        "colab_type": "code",
        "colab": {}
      },
      "source": [
        "downloaded = drive.CreateFile({'id':\"11f96V-uOqzfg8WUKlEp0-B_VpCvLycBB\"})   # replace the id with id of file you want to access\n",
        "downloaded.GetContentFile('datanew.csv')"
      ],
      "execution_count": 0,
      "outputs": []
    },
    {
      "cell_type": "code",
      "metadata": {
        "id": "dgXTsnHi4TGE",
        "colab_type": "code",
        "outputId": "642770c9-fa16-422c-9d0d-2128bee612ed",
        "colab": {
          "base_uri": "https://localhost:8080/",
          "height": 1000
        }
      },
      "source": [
        "import numpy as np\n",
        "np.random.seed(4)\n",
        "import matplotlib.pyplot as plt\n",
        "import pandas as pd\n",
        "\n",
        "from sklearn.preprocessing import MinMaxScaler\n",
        "from keras.models import Sequential\n",
        "from keras.layers import Dense, LSTM\n",
        "\n",
        "#\n",
        "# Funciones auxiliares\n",
        "#\n",
        "def graficar_predicciones(real, prediccion):\n",
        "    plt.plot(real[0:len(prediccion)],color='red', label='Valor real de la acción')\n",
        "    plt.plot(prediccion, color='blue', label='Predicción de la acción')\n",
        "    plt.ylim(1.1 * np.min(prediccion)/2, 1.1 * np.max(prediccion))\n",
        "    plt.xlabel('Fecha')\n",
        "    plt.ylabel('dia')\n",
        "    plt.legend()\n",
        "    plt.show()\n",
        "\n",
        "#\n",
        "# Lectura de los datos\n",
        "#\n",
        "dataset = pd.read_csv('datanew.csv', index_col='fecha', parse_dates=['fecha'])\n",
        "dataset.head()\n",
        "\n",
        "#\n",
        "# Sets de entrenamiento y validación \n",
        "# La LSTM se entrenará con datos de 2016 hacia atrás. La validación se hará con datos de 2017 en adelante.\n",
        "# En ambos casos sólo se usará el valor más alto de la acción para cada día\n",
        "#\n",
        "\n",
        "set_entrenamiento = dataset[:'2018'].iloc[:,0:1]\n",
        "\n",
        "set_validacion = dataset['2019':].iloc[:,0:1]\n",
        "\n",
        "print(set_entrenamiento)\n",
        "\n",
        "\n",
        "set_entrenamiento['dia'].plot(legend=True)\n",
        "set_validacion['dia'].plot(legend=True)\n",
        "plt.legend(['Datos antes 2018 ', 'Datos desde 2019'])\n",
        "plt.show()\n",
        "\n",
        "\n",
        "\n",
        "# Normalización del set de entrenamiento\n",
        "sc = MinMaxScaler(feature_range=(0,1))\n",
        "set_entrenamiento_escalado = sc.fit_transform(set_entrenamiento)\n",
        "\n",
        "# La red LSTM tendrá como entrada \"time_step\" datos consecutivos, y como salida 1 dato (la predicción a\n",
        "# partir de esos \"time_step\" datos). Se conformará de esta forma el set de entrenamiento\n",
        "time_step = 4\n",
        "X_train = []\n",
        "Y_train = []\n",
        "m = len(set_entrenamiento_escalado)\n",
        "\n",
        "for i in range(time_step,m):\n",
        "    # X: bloques de \"time_step\" datos: 0-time_step, 1-time_step+1, 2-time_step+2, etc\n",
        "    X_train.append(set_entrenamiento_escalado[i-time_step:i,0])\n",
        "\n",
        "    # Y: el siguiente dato\n",
        "    Y_train.append(set_entrenamiento_escalado[i,0])\n",
        "X_train, Y_train = np.array(X_train), np.array(Y_train)\n",
        "\n",
        "# Reshape X_train para que se ajuste al modelo en Keras\n",
        "X_train = np.reshape(X_train, (X_train.shape[0], X_train.shape[1], 1))\n",
        "\n",
        "#\n",
        "# Red LSTM\n",
        "#\n",
        "dim_entrada = (X_train.shape[1],1)\n",
        "dim_salida = 1\n",
        "na = 50\n",
        "\n",
        "modelo = Sequential()\n",
        "modelo.add(LSTM(units=na, input_shape=dim_entrada))\n",
        "modelo.add(Dense(units=dim_salida))\n",
        "modelo.compile(optimizer='rmsprop', loss='mse')\n",
        "modelo.fit(X_train,Y_train,epochs=20,batch_size=32)\n",
        "\n",
        "\n",
        "#\n",
        "# Validación (predicción del valor de las acciones)\n",
        "#\n",
        "x_test = set_validacion.values\n",
        "x_test = sc.transform(x_test)\n",
        "\n",
        "X_test = []\n",
        "\n",
        "for i in range(time_step,len(x_test)):\n",
        "    X_test.append(x_test[i-time_step:i,0])\n",
        "    print()\n",
        "X_test = np.array(X_test)\n",
        "X_test = np.reshape(X_test, (X_test.shape[0],X_test.shape[1],1))\n",
        "\n",
        "prediccion = modelo.predict(X_test)\n",
        "prediccion = sc.inverse_transform(prediccion)\n",
        "\n",
        "# Graficar resultados\n",
        "graficar_predicciones(set_validacion.values,prediccion)\n",
        "\n",
        "print(prediccion)\n",
        "print(set_validacion)\n",
        "\n"
      ],
      "execution_count": 5,
      "outputs": [
        {
          "output_type": "stream",
          "text": [
            "            dia\n",
            "fecha          \n",
            "2018-01-01    3\n",
            "2018-02-01    2\n",
            "2018-03-01    1\n",
            "2018-04-01    2\n",
            "2018-05-01   11\n",
            "2018-06-01    5\n",
            "2018-07-01    4\n",
            "2018-08-01   15\n",
            "2018-09-01   13\n",
            "2018-10-01   11\n",
            "2018-11-01    9\n",
            "2018-12-01    7\n"
          ],
          "name": "stdout"
        },
        {
          "output_type": "display_data",
          "data": {
            "image/png": "[encoded data removed]",
            "text/plain": [
              "<Figure size 432x288 with 1 Axes>"
            ]
          },
          "metadata": {
            "tags": [],
            "needs_background": "light"
          }
        },
        {
          "output_type": "stream",
          "text": [
            "Epoch 1/20\n",
            "8/8 [==============================] - 1s 66ms/step - loss: 0.3515\n",
            "Epoch 2/20\n",
            "8/8 [==============================] - 0s 852us/step - loss: 0.2949\n",
            "Epoch 3/20\n",
            "8/8 [==============================] - 0s 740us/step - loss: 0.2588\n",
            "Epoch 4/20\n",
            "8/8 [==============================] - 0s 799us/step - loss: 0.2312\n",
            "Epoch 5/20\n",
            "8/8 [==============================] - 0s 783us/step - loss: 0.2085\n",
            "Epoch 6/20\n",
            "8/8 [==============================] - 0s 782us/step - loss: 0.1893\n",
            "Epoch 7/20\n",
            "8/8 [==============================] - 0s 826us/step - loss: 0.1728\n",
            "Epoch 8/20\n",
            "8/8 [==============================] - 0s 614us/step - loss: 0.1586\n",
            "Epoch 9/20\n",
            "8/8 [==============================] - 0s 717us/step - loss: 0.1464\n",
            "Epoch 10/20\n",
            "8/8 [==============================] - 0s 746us/step - loss: 0.1359\n",
            "Epoch 11/20\n",
            "8/8 [==============================] - 0s 749us/step - loss: 0.1270\n",
            "Epoch 12/20\n",
            "8/8 [==============================] - 0s 736us/step - loss: 0.1196\n",
            "Epoch 13/20\n",
            "8/8 [==============================] - 0s 744us/step - loss: 0.1136\n",
            "Epoch 14/20\n",
            "8/8 [==============================] - 0s 545us/step - loss: 0.1087\n",
            "Epoch 15/20\n",
            "8/8 [==============================] - 0s 854us/step - loss: 0.1048\n",
            "Epoch 16/20\n",
            "8/8 [==============================] - 0s 610us/step - loss: 0.1017\n",
            "Epoch 17/20\n",
            "8/8 [==============================] - 0s 865us/step - loss: 0.0993\n",
            "Epoch 18/20\n",
            "8/8 [==============================] - 0s 432us/step - loss: 0.0973\n",
            "Epoch 19/20\n",
            "8/8 [==============================] - 0s 466us/step - loss: 0.0957\n",
            "Epoch 20/20\n",
            "8/8 [==============================] - 0s 396us/step - loss: 0.0944\n",
            "\n",
            "\n",
            "\n",
            "\n",
            "\n",
            "\n",
            "\n",
            "\n",
            "\n",
            "\n",
            "\n"
          ],
          "name": "stdout"
        },
        {
          "output_type": "display_data",
          "data": {
            "image/png": "[encoded data removed]",
            "text/plain": [
              "<Figure size 432x288 with 1 Axes>"
            ]
          },
          "metadata": {
            "tags": [],
            "needs_background": "light"
          }
        },
        {
          "output_type": "stream",
          "text": [
            "[[12.991425 ]\n",
            " [ 9.498503 ]\n",
            " [ 8.950465 ]\n",
            " [ 9.247864 ]\n",
            " [ 7.8488092]\n",
            " [ 9.324804 ]\n",
            " [10.982911 ]\n",
            " [10.991452 ]\n",
            " [10.471984 ]\n",
            " [ 8.555342 ]\n",
            " [ 7.685307 ]]\n",
            "            dia\n",
            "fecha          \n",
            "2019-01-01   24\n",
            "2019-02-01    8\n",
            "2019-03-01    7\n",
            "2019-04-01   15\n",
            "2019-05-01    4\n",
            "2019-06-01    4\n",
            "2019-07-01   10\n",
            "2019-08-01    8\n",
            "2019-09-01   13\n",
            "2019-10-01   13\n",
            "2019-11-01    9\n",
            "2019-12-01    3\n",
            "2020-01-01    2\n",
            "2020-02-01   11\n",
            "2020-03-01   10\n"
          ],
          "name": "stdout"
        }
      ]
    },
    {
      "cell_type": "code",
      "metadata": {
        "id": "Mpme6QpQ1Bmg",
        "colab_type": "code",
        "colab": {
          "base_uri": "https://localhost:8080/",
          "height": 714
        },
        "outputId": "d0e2f92b-bf1a-43cc-a507-95319f398c00"
      },
      "source": [
        "print(prediccion)\n",
        "print(set_validacion)\n",
        "temp = set_validacion[-1:]['dia'].index.values\n",
        "temp = str(temp[0])\n",
        "temp = temp[0:10]\n",
        "temp = temp.split('-')\n",
        "\n",
        "\n",
        "from datetime import date\n",
        "from dateutil.relativedelta import relativedelta\n",
        "fecha  = date(int(temp[0]), int(temp[1]), 1 )+relativedelta(months=+1)\n",
        "\n",
        "tempCount = 1\n",
        "date_out = pd.DataFrame(columns = ['Año-Mes', 'dia'])\n",
        "for i in range(len(prediccion)):\n",
        "    fecha  = date(int(temp[0]), int(temp[1]), 1 )+relativedelta(months=+tempCount)\n",
        "    fecha = str(fecha)\n",
        "    date_out.loc[tempCount] ={'Año-Mes' : fecha[0:7] , 'dia': int(prediccion[i])  }\n",
        "    tempCount += 1\n",
        "\n",
        "print('Dias Calculados según los datos ingresados para la empresa ')\n",
        "print(date_out)"
      ],
      "execution_count": 47,
      "outputs": [
        {
          "output_type": "stream",
          "text": [
            "[[12.991425 ]\n",
            " [ 9.498503 ]\n",
            " [ 8.950465 ]\n",
            " [ 9.247864 ]\n",
            " [ 7.8488092]\n",
            " [ 9.324804 ]\n",
            " [10.982911 ]\n",
            " [10.991452 ]\n",
            " [10.471984 ]\n",
            " [ 8.555342 ]\n",
            " [ 7.685307 ]]\n",
            "            dia\n",
            "fecha          \n",
            "2019-01-01   24\n",
            "2019-02-01    8\n",
            "2019-03-01    7\n",
            "2019-04-01   15\n",
            "2019-05-01    4\n",
            "2019-06-01    4\n",
            "2019-07-01   10\n",
            "2019-08-01    8\n",
            "2019-09-01   13\n",
            "2019-10-01   13\n",
            "2019-11-01    9\n",
            "2019-12-01    3\n",
            "2020-01-01    2\n",
            "2020-02-01   11\n",
            "2020-03-01   10\n",
            "Dias Calculados según los datos ingresados para la empresa \n",
            "    Año-Mes dia\n",
            "1   2020-04  12\n",
            "2   2020-05   9\n",
            "3   2020-06   8\n",
            "4   2020-07   9\n",
            "5   2020-08   7\n",
            "6   2020-09   9\n",
            "7   2020-10  10\n",
            "8   2020-11  10\n",
            "9   2020-12  10\n",
            "10  2021-01   8\n",
            "11  2021-02   7\n"
          ],
          "name": "stdout"
        }
      ]
    }
  ]
}